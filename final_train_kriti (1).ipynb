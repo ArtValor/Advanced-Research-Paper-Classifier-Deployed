{
 "cells": [
  {
   "cell_type": "code",
   "execution_count": 1,
   "id": "81c01ecb",
   "metadata": {
    "_cell_guid": "b1076dfc-b9ad-4769-8c92-a6c4dae69d19",
    "_uuid": "8f2839f25d086af736a60e9eeb907d3b93b6e0e5",
    "execution": {
     "iopub.execute_input": "2024-02-09T08:40:09.167650Z",
     "iopub.status.busy": "2024-02-09T08:40:09.167234Z",
     "iopub.status.idle": "2024-02-09T08:40:09.907847Z",
     "shell.execute_reply": "2024-02-09T08:40:09.906987Z"
    },
    "papermill": {
     "duration": 0.750577,
     "end_time": "2024-02-09T08:40:09.910119",
     "exception": false,
     "start_time": "2024-02-09T08:40:09.159542",
     "status": "completed"
    },
    "tags": []
   },
   "outputs": [
    {
     "name": "stdout",
     "output_type": "stream",
     "text": [
      "/kaggle/input/kriti-2024/sample_submission.csv\n",
      "/kaggle/input/kriti-2024/train.csv\n",
      "/kaggle/input/kriti-2024/test.csv\n",
      "/kaggle/input/scibert/scibert/config.json\n",
      "/kaggle/input/scibert/scibert/model.safetensors\n"
     ]
    }
   ],
   "source": [
    "# This Python 3 environment comes with many helpful analytics libraries installed\n",
    "# It is defined by the kaggle/python Docker image: https://github.com/kaggle/docker-python\n",
    "# For example, here's several helpful packages to load\n",
    "\n",
    "import numpy as np # linear algebra\n",
    "import pandas as pd # data processing, CSV file I/O (e.g. pd.read_csv)\n",
    "\n",
    "# Input data files are available in the read-only \"../input/\" directory\n",
    "# For example, running this (by clicking run or pressing Shift+Enter) will list all files under the input directory\n",
    "\n",
    "import os\n",
    "for dirname, _, filenames in os.walk('/kaggle/input'):\n",
    "    for filename in filenames:\n",
    "        print(os.path.join(dirname, filename))\n",
    "\n",
    "# You can write up to 20GB to the current directory (/kaggle/working/) that gets preserved as output when you create a version using \"Save & Run All\" \n",
    "# You can also write temporary files to /kaggle/temp/, but they won't be saved outside of the current session"
   ]
  },
  {
   "cell_type": "code",
   "execution_count": 2,
   "id": "b591314f",
   "metadata": {
    "execution": {
     "iopub.execute_input": "2024-02-09T08:40:09.921673Z",
     "iopub.status.busy": "2024-02-09T08:40:09.921287Z",
     "iopub.status.idle": "2024-02-09T08:40:23.548784Z",
     "shell.execute_reply": "2024-02-09T08:40:23.547668Z"
    },
    "papermill": {
     "duration": 13.635667,
     "end_time": "2024-02-09T08:40:23.551174",
     "exception": false,
     "start_time": "2024-02-09T08:40:09.915507",
     "status": "completed"
    },
    "tags": []
   },
   "outputs": [
    {
     "name": "stdout",
     "output_type": "stream",
     "text": [
      "Collecting tensorflow_addons\r\n",
      "  Downloading tensorflow_addons-0.23.0-cp310-cp310-manylinux_2_17_x86_64.manylinux2014_x86_64.whl.metadata (1.8 kB)\r\n",
      "Requirement already satisfied: packaging in /opt/conda/lib/python3.10/site-packages (from tensorflow_addons) (21.3)\r\n",
      "Collecting typeguard<3.0.0,>=2.7 (from tensorflow_addons)\r\n",
      "  Downloading typeguard-2.13.3-py3-none-any.whl (17 kB)\r\n",
      "Requirement already satisfied: pyparsing!=3.0.5,>=2.0.2 in /opt/conda/lib/python3.10/site-packages (from packaging->tensorflow_addons) (3.1.1)\r\n",
      "Downloading tensorflow_addons-0.23.0-cp310-cp310-manylinux_2_17_x86_64.manylinux2014_x86_64.whl (611 kB)\r\n",
      "\u001b[2K   \u001b[90m━━━━━━━━━━━━━━━━━━━━━━━━━━━━━━━━━━━━━━━━\u001b[0m \u001b[32m611.8/611.8 kB\u001b[0m \u001b[31m19.5 MB/s\u001b[0m eta \u001b[36m0:00:00\u001b[0m\r\n",
      "\u001b[?25hInstalling collected packages: typeguard, tensorflow_addons\r\n",
      "  Attempting uninstall: typeguard\r\n",
      "    Found existing installation: typeguard 4.1.5\r\n",
      "    Uninstalling typeguard-4.1.5:\r\n",
      "      Successfully uninstalled typeguard-4.1.5\r\n",
      "\u001b[31mERROR: pip's dependency resolver does not currently take into account all the packages that are installed. This behaviour is the source of the following dependency conflicts.\r\n",
      "ydata-profiling 4.6.4 requires typeguard<5,>=4.1.2, but you have typeguard 2.13.3 which is incompatible.\u001b[0m\u001b[31m\r\n",
      "\u001b[0mSuccessfully installed tensorflow_addons-0.23.0 typeguard-2.13.3\r\n"
     ]
    }
   ],
   "source": [
    "!pip install tensorflow_addons"
   ]
  },
  {
   "cell_type": "code",
   "execution_count": 3,
   "id": "1b555a21",
   "metadata": {
    "execution": {
     "iopub.execute_input": "2024-02-09T08:40:23.564592Z",
     "iopub.status.busy": "2024-02-09T08:40:23.563820Z",
     "iopub.status.idle": "2024-02-09T08:40:43.674155Z",
     "shell.execute_reply": "2024-02-09T08:40:43.673314Z"
    },
    "papermill": {
     "duration": 20.119384,
     "end_time": "2024-02-09T08:40:43.676418",
     "exception": false,
     "start_time": "2024-02-09T08:40:23.557034",
     "status": "completed"
    },
    "tags": []
   },
   "outputs": [
    {
     "name": "stderr",
     "output_type": "stream",
     "text": [
      "2024-02-09 08:40:33.219979: E external/local_xla/xla/stream_executor/cuda/cuda_dnn.cc:9261] Unable to register cuDNN factory: Attempting to register factory for plugin cuDNN when one has already been registered\n",
      "2024-02-09 08:40:33.220109: E external/local_xla/xla/stream_executor/cuda/cuda_fft.cc:607] Unable to register cuFFT factory: Attempting to register factory for plugin cuFFT when one has already been registered\n",
      "2024-02-09 08:40:33.368304: E external/local_xla/xla/stream_executor/cuda/cuda_blas.cc:1515] Unable to register cuBLAS factory: Attempting to register factory for plugin cuBLAS when one has already been registered\n",
      "/opt/conda/lib/python3.10/site-packages/tensorflow_addons/utils/tfa_eol_msg.py:23: UserWarning: \n",
      "\n",
      "TensorFlow Addons (TFA) has ended development and introduction of new features.\n",
      "TFA has entered a minimal maintenance and release mode until a planned end of life in May 2024.\n",
      "Please modify downstream libraries to take dependencies from other repositories in our TensorFlow community (e.g. Keras, Keras-CV, and Keras-NLP). \n",
      "\n",
      "For more information see: https://github.com/tensorflow/addons/issues/2807 \n",
      "\n",
      "  warnings.warn(\n"
     ]
    }
   ],
   "source": [
    "import pandas as pd\n",
    "from sklearn.model_selection import train_test_split\n",
    "from transformers import AutoModel, AutoTokenizer\n",
    "from sklearn.preprocessing import MultiLabelBinarizer\n",
    "from sklearn.metrics import f1_score\n",
    "from imblearn.ensemble import EasyEnsembleClassifier\n",
    "import numpy as np\n",
    "import tensorflow_addons as tfa\n",
    "from nltk.corpus import stopwords\n",
    "from nltk.stem import PorterStemmer\n",
    "import re\n",
    "import pandas as pd\n",
    "from sklearn.model_selection import train_test_split\n",
    "from transformers import BertTokenizer, BertForSequenceClassification, AdamW\n",
    "from sklearn.preprocessing import MultiLabelBinarizer\n",
    "from sklearn.metrics import f1_score\n",
    "import torch\n",
    "from torch.utils.data import DataLoader, TensorDataset\n",
    "import numpy as np\n",
    "import tensorflow_addons as tfa"
   ]
  },
  {
   "cell_type": "code",
   "execution_count": 4,
   "id": "359e43f8",
   "metadata": {
    "execution": {
     "iopub.execute_input": "2024-02-09T08:40:43.690153Z",
     "iopub.status.busy": "2024-02-09T08:40:43.689310Z",
     "iopub.status.idle": "2024-02-09T08:40:45.379151Z",
     "shell.execute_reply": "2024-02-09T08:40:45.378284Z"
    },
    "papermill": {
     "duration": 1.699013,
     "end_time": "2024-02-09T08:40:45.381421",
     "exception": false,
     "start_time": "2024-02-09T08:40:43.682408",
     "status": "completed"
    },
    "tags": []
   },
   "outputs": [],
   "source": [
    "df=pd.read_csv('/kaggle/input/kriti-2024/train.csv')\n",
    "test_df=pd.read_csv('/kaggle/input/kriti-2024/test.csv')"
   ]
  },
  {
   "cell_type": "code",
   "execution_count": 5,
   "id": "587a044f",
   "metadata": {
    "execution": {
     "iopub.execute_input": "2024-02-09T08:40:45.394959Z",
     "iopub.status.busy": "2024-02-09T08:40:45.394623Z",
     "iopub.status.idle": "2024-02-09T08:40:45.410118Z",
     "shell.execute_reply": "2024-02-09T08:40:45.409375Z"
    },
    "papermill": {
     "duration": 0.02435,
     "end_time": "2024-02-09T08:40:45.411943",
     "exception": false,
     "start_time": "2024-02-09T08:40:45.387593",
     "status": "completed"
    },
    "tags": []
   },
   "outputs": [],
   "source": [
    "X = df[['Title', 'Abstract']]\n",
    "y = df['Categories']"
   ]
  },
  {
   "cell_type": "code",
   "execution_count": 6,
   "id": "c0629d37",
   "metadata": {
    "execution": {
     "iopub.execute_input": "2024-02-09T08:40:45.424930Z",
     "iopub.status.busy": "2024-02-09T08:40:45.424642Z",
     "iopub.status.idle": "2024-02-09T08:40:46.019994Z",
     "shell.execute_reply": "2024-02-09T08:40:46.019208Z"
    },
    "papermill": {
     "duration": 0.604445,
     "end_time": "2024-02-09T08:40:46.022321",
     "exception": false,
     "start_time": "2024-02-09T08:40:45.417876",
     "status": "completed"
    },
    "tags": []
   },
   "outputs": [],
   "source": [
    "mlb = MultiLabelBinarizer()\n",
    "y_binary = mlb.fit_transform(y.apply(eval))\n"
   ]
  },
  {
   "cell_type": "code",
   "execution_count": 7,
   "id": "468d5272",
   "metadata": {
    "execution": {
     "iopub.execute_input": "2024-02-09T08:40:46.045853Z",
     "iopub.status.busy": "2024-02-09T08:40:46.045555Z",
     "iopub.status.idle": "2024-02-09T08:40:46.072843Z",
     "shell.execute_reply": "2024-02-09T08:40:46.071951Z"
    },
    "papermill": {
     "duration": 0.038744,
     "end_time": "2024-02-09T08:40:46.075387",
     "exception": false,
     "start_time": "2024-02-09T08:40:46.036643",
     "status": "completed"
    },
    "tags": []
   },
   "outputs": [],
   "source": [
    "X_train, X_test, y_train, y_test = train_test_split(X, y_binary, test_size=0.15, random_state=83)"
   ]
  },
  {
   "cell_type": "code",
   "execution_count": 8,
   "id": "a787757c",
   "metadata": {
    "execution": {
     "iopub.execute_input": "2024-02-09T08:40:46.089780Z",
     "iopub.status.busy": "2024-02-09T08:40:46.089075Z",
     "iopub.status.idle": "2024-02-09T08:40:46.097384Z",
     "shell.execute_reply": "2024-02-09T08:40:46.096673Z"
    },
    "papermill": {
     "duration": 0.017406,
     "end_time": "2024-02-09T08:40:46.099225",
     "exception": false,
     "start_time": "2024-02-09T08:40:46.081819",
     "status": "completed"
    },
    "tags": []
   },
   "outputs": [],
   "source": [
    "stop_words = set(stopwords.words('english'))\n",
    "def preprocess_text(text):\n",
    "    # Convert to lowercase\n",
    "    text = text.lower()\n",
    "    \n",
    "    # Remove non-alphanumeric characters\n",
    "    text = re.sub(r'[^a-zA-Z0-9\\s]', '', text)\n",
    "    \n",
    "    # Remove stop words\n",
    "    text = ' '.join([word for word in text.split() if word not in stop_words])\n",
    "        \n",
    "    return text"
   ]
  },
  {
   "cell_type": "code",
   "execution_count": 9,
   "id": "7d29e9ef",
   "metadata": {
    "execution": {
     "iopub.execute_input": "2024-02-09T08:40:46.112830Z",
     "iopub.status.busy": "2024-02-09T08:40:46.112477Z",
     "iopub.status.idle": "2024-02-09T08:40:49.512253Z",
     "shell.execute_reply": "2024-02-09T08:40:49.511215Z"
    },
    "papermill": {
     "duration": 3.409076,
     "end_time": "2024-02-09T08:40:49.514504",
     "exception": false,
     "start_time": "2024-02-09T08:40:46.105428",
     "status": "completed"
    },
    "tags": []
   },
   "outputs": [],
   "source": [
    "X_train_processed = [preprocess_text(title + ': ' + abstract) for title, abstract in zip(X_train['Title'], X_train['Abstract'])]\n",
    "X_test_processed = [preprocess_text(title + ': ' + abstract) for title, abstract in zip(X_test['Title'], X_test['Abstract'])]"
   ]
  },
  {
   "cell_type": "code",
   "execution_count": 10,
   "id": "a14b4b2f",
   "metadata": {
    "execution": {
     "iopub.execute_input": "2024-02-09T08:40:49.528170Z",
     "iopub.status.busy": "2024-02-09T08:40:49.527849Z",
     "iopub.status.idle": "2024-02-09T08:40:50.768210Z",
     "shell.execute_reply": "2024-02-09T08:40:50.767295Z"
    },
    "papermill": {
     "duration": 1.249438,
     "end_time": "2024-02-09T08:40:50.770407",
     "exception": false,
     "start_time": "2024-02-09T08:40:49.520969",
     "status": "completed"
    },
    "tags": []
   },
   "outputs": [
    {
     "data": {
      "application/vnd.jupyter.widget-view+json": {
       "model_id": "8001fdcca852491ba79c30c1f01a669a",
       "version_major": 2,
       "version_minor": 0
      },
      "text/plain": [
       "vocab.txt:   0%|          | 0.00/228k [00:00<?, ?B/s]"
      ]
     },
     "metadata": {},
     "output_type": "display_data"
    },
    {
     "data": {
      "application/vnd.jupyter.widget-view+json": {
       "model_id": "1a067aab08364c3d84d66149b838fa6f",
       "version_major": 2,
       "version_minor": 0
      },
      "text/plain": [
       "config.json:   0%|          | 0.00/385 [00:00<?, ?B/s]"
      ]
     },
     "metadata": {},
     "output_type": "display_data"
    }
   ],
   "source": [
    "tokenizer = BertTokenizer.from_pretrained('allenai/scibert_scivocab_uncased', do_lower_case=True)\n"
   ]
  },
  {
   "cell_type": "code",
   "execution_count": 11,
   "id": "6a711b16",
   "metadata": {
    "execution": {
     "iopub.execute_input": "2024-02-09T08:40:50.786100Z",
     "iopub.status.busy": "2024-02-09T08:40:50.785473Z",
     "iopub.status.idle": "2024-02-09T08:40:50.790143Z",
     "shell.execute_reply": "2024-02-09T08:40:50.789183Z"
    },
    "papermill": {
     "duration": 0.014707,
     "end_time": "2024-02-09T08:40:50.791951",
     "exception": false,
     "start_time": "2024-02-09T08:40:50.777244",
     "status": "completed"
    },
    "tags": []
   },
   "outputs": [],
   "source": [
    "def tokenize_text(text):\n",
    "    return tokenizer.encode_plus(text, add_special_tokens=True, return_tensors='pt', padding='max_length', truncation=True, max_length=512)"
   ]
  },
  {
   "cell_type": "code",
   "execution_count": 12,
   "id": "3c738cf4",
   "metadata": {
    "execution": {
     "iopub.execute_input": "2024-02-09T08:40:50.806410Z",
     "iopub.status.busy": "2024-02-09T08:40:50.805650Z",
     "iopub.status.idle": "2024-02-09T08:45:46.431652Z",
     "shell.execute_reply": "2024-02-09T08:45:46.430669Z"
    },
    "papermill": {
     "duration": 295.635652,
     "end_time": "2024-02-09T08:45:46.434148",
     "exception": false,
     "start_time": "2024-02-09T08:40:50.798496",
     "status": "completed"
    },
    "tags": []
   },
   "outputs": [],
   "source": [
    "X_train_tokens = [tokenize_text(i) for i in X_train_processed]\n",
    "X_test_tokens = [tokenize_text(i) for i in X_test_processed]\n",
    "X_train_attention_masks = torch.cat([x['attention_mask'] for x in X_train_tokens], dim=0)\n",
    "X_test_attention_masks= torch.cat([x['attention_mask'] for x in X_test_tokens], dim=0)"
   ]
  },
  {
   "cell_type": "code",
   "execution_count": 13,
   "id": "ed894eaf",
   "metadata": {
    "execution": {
     "iopub.execute_input": "2024-02-09T08:45:46.449674Z",
     "iopub.status.busy": "2024-02-09T08:45:46.449334Z",
     "iopub.status.idle": "2024-02-09T08:45:46.674582Z",
     "shell.execute_reply": "2024-02-09T08:45:46.673778Z"
    },
    "papermill": {
     "duration": 0.235406,
     "end_time": "2024-02-09T08:45:46.676906",
     "exception": false,
     "start_time": "2024-02-09T08:45:46.441500",
     "status": "completed"
    },
    "tags": []
   },
   "outputs": [],
   "source": [
    "X_train_inputs = torch.cat([x['input_ids'] for x in X_train_tokens], dim=0)\n",
    "X_test_inputs = torch.cat([x['input_ids'] for x in X_test_tokens], dim=0)"
   ]
  },
  {
   "cell_type": "code",
   "execution_count": 14,
   "id": "793236a1",
   "metadata": {
    "execution": {
     "iopub.execute_input": "2024-02-09T08:45:46.692118Z",
     "iopub.status.busy": "2024-02-09T08:45:46.691576Z",
     "iopub.status.idle": "2024-02-09T08:45:51.274453Z",
     "shell.execute_reply": "2024-02-09T08:45:51.273400Z"
    },
    "papermill": {
     "duration": 4.592814,
     "end_time": "2024-02-09T08:45:51.276788",
     "exception": false,
     "start_time": "2024-02-09T08:45:46.683974",
     "status": "completed"
    },
    "tags": []
   },
   "outputs": [],
   "source": [
    "model_name = 'allenai/scibert_scivocab_uncased'\n",
    "scibert_model = BertForSequenceClassification.from_pretrained('/kaggle/input/scibert/scibert')\n"
   ]
  },
  {
   "cell_type": "code",
   "execution_count": 15,
   "id": "665613cb",
   "metadata": {
    "execution": {
     "iopub.execute_input": "2024-02-09T08:45:51.292131Z",
     "iopub.status.busy": "2024-02-09T08:45:51.291361Z",
     "iopub.status.idle": "2024-02-09T08:45:51.305852Z",
     "shell.execute_reply": "2024-02-09T08:45:51.305091Z"
    },
    "papermill": {
     "duration": 0.023934,
     "end_time": "2024-02-09T08:45:51.307688",
     "exception": false,
     "start_time": "2024-02-09T08:45:51.283754",
     "status": "completed"
    },
    "tags": []
   },
   "outputs": [],
   "source": [
    "train_dataset = TensorDataset(X_train_inputs, X_train_attention_masks, torch.tensor(y_train, dtype=torch.float32))\n",
    "train_dataloader = DataLoader(train_dataset, batch_size=9, shuffle=True)"
   ]
  },
  {
   "cell_type": "code",
   "execution_count": 16,
   "id": "a07ee76a",
   "metadata": {
    "execution": {
     "iopub.execute_input": "2024-02-09T08:45:51.322489Z",
     "iopub.status.busy": "2024-02-09T08:45:51.322210Z",
     "iopub.status.idle": "2024-02-09T09:23:48.045161Z",
     "shell.execute_reply": "2024-02-09T09:23:48.044168Z"
    },
    "papermill": {
     "duration": 2276.732923,
     "end_time": "2024-02-09T09:23:48.047520",
     "exception": false,
     "start_time": "2024-02-09T08:45:51.314597",
     "status": "completed"
    },
    "tags": []
   },
   "outputs": [
    {
     "name": "stderr",
     "output_type": "stream",
     "text": [
      "/opt/conda/lib/python3.10/site-packages/transformers/optimization.py:429: FutureWarning: This implementation of AdamW is deprecated and will be removed in a future version. Use the PyTorch implementation torch.optim.AdamW instead, or set `no_deprecation_warning=True` to disable this warning\n",
      "  warnings.warn(\n",
      "Epoch 1/1: 100%|██████████| 4837/4837 [37:56<00:00,  2.12batch/s, Loss=0.017]\n"
     ]
    }
   ],
   "source": [
    "from tqdm import tqdm\n",
    "import torch\n",
    "\n",
    "# Move model to GPU\n",
    "scibert_model.to('cuda')\n",
    "\n",
    "optimizer = AdamW(scibert_model.parameters(), lr=3e-5)\n",
    "epochs = 1\n",
    "scibert_model.train()\n",
    "\n",
    "for epoch in range(epochs):\n",
    "    epoch_loss = 0.0\n",
    "    with tqdm(total=len(train_dataloader), desc=f'Epoch {epoch + 1}/{epochs}', unit='batch') as pbar:\n",
    "        for batch in train_dataloader:\n",
    "            inputs = batch[0].to('cuda')\n",
    "            attention_masks = batch[1].to('cuda')\n",
    "            labels = batch[2].to('cuda')\n",
    "            optimizer.zero_grad()\n",
    "            outputs = scibert_model(inputs,attention_mask=attention_masks, labels=labels)\n",
    "            loss = outputs.loss\n",
    "            loss.backward()\n",
    "            optimizer.step()\n",
    "            \n",
    "            epoch_loss += loss.item()\n",
    "            pbar.set_postfix({'Loss': epoch_loss / (pbar.n + 1e-12)})\n",
    "            pbar.update(1)\n"
   ]
  },
  {
   "cell_type": "code",
   "execution_count": 17,
   "id": "f0445934",
   "metadata": {
    "execution": {
     "iopub.execute_input": "2024-02-09T09:23:49.633719Z",
     "iopub.status.busy": "2024-02-09T09:23:49.633353Z",
     "iopub.status.idle": "2024-02-09T09:26:02.426187Z",
     "shell.execute_reply": "2024-02-09T09:26:02.425129Z"
    },
    "papermill": {
     "duration": 134.449105,
     "end_time": "2024-02-09T09:26:03.253823",
     "exception": false,
     "start_time": "2024-02-09T09:23:48.804718",
     "status": "completed"
    },
    "tags": []
   },
   "outputs": [
    {
     "name": "stdout",
     "output_type": "stream",
     "text": [
      "Macro F1 Score on Test Set: 0.6777930293549181\n"
     ]
    }
   ],
   "source": [
    "batch_size = 9  # Adjust the batch size based on your available GPU memory\n",
    "\n",
    "# Move the test data to CUDA\n",
    "X_test_inputs = X_test_inputs.to('cuda')\n",
    "X_test_attention_masks = X_test_attention_masks.to('cuda')\n",
    "\n",
    "# Split the test data into batches\n",
    "X_test_inputs_batches = torch.split(X_test_inputs, batch_size)\n",
    "X_test_attention_masks_batches = torch.split(X_test_attention_masks, batch_size)\n",
    "# Make predictions on the test data\n",
    "y_pred_list = []\n",
    "\n",
    "scibert_model.eval()\n",
    "with torch.no_grad():\n",
    "    for inputs_batch, attention_masks_batch in zip(X_test_inputs_batches, X_test_attention_masks_batches):\n",
    "        inputs_batch = inputs_batch.to('cuda')\n",
    "        attention_masks_batch = attention_masks_batch.to('cuda')\n",
    "\n",
    "        y_pred_batch = scibert_model(inputs_batch, attention_mask=attention_masks_batch)[0].sigmoid().cpu().numpy()\n",
    "        y_pred_list.append(y_pred_batch)\n",
    "\n",
    "# Concatenate predictions from all batches\n",
    "y_pred = np.concatenate(y_pred_list, axis=0)\n",
    "\n",
    "# Convert predicted probabilities to binary predictions\n",
    "y_pred_classes = (y_pred > 0.5).astype(int)\n",
    "\n",
    "# Calculate Macro F1 score\n",
    "f1 = f1_score(y_test, y_pred_classes, average='macro')\n",
    "print(\"Macro F1 Score on Test Set:\", f1)\n"
   ]
  },
  {
   "cell_type": "code",
   "execution_count": 18,
   "id": "3626863e",
   "metadata": {
    "execution": {
     "iopub.execute_input": "2024-02-09T09:26:04.839996Z",
     "iopub.status.busy": "2024-02-09T09:26:04.839630Z",
     "iopub.status.idle": "2024-02-09T09:30:20.262441Z",
     "shell.execute_reply": "2024-02-09T09:30:20.261567Z"
    },
    "papermill": {
     "duration": 256.192854,
     "end_time": "2024-02-09T09:30:20.264665",
     "exception": false,
     "start_time": "2024-02-09T09:26:04.071811",
     "status": "completed"
    },
    "tags": []
   },
   "outputs": [
    {
     "name": "stderr",
     "output_type": "stream",
     "text": [
      "Predicting: 100%|██████████| 1220/1220 [03:11<00:00,  6.39batch/s]\n"
     ]
    },
    {
     "name": "stdout",
     "output_type": "stream",
     "text": [
      "       cs.AI  cs.AR  cs.CE  cs.CL  cs.CR  cs.CV  cs.DB  cs.DC  cs.DM  cs.GT  \\\n",
      "0          0      0      0      0      0      0      0      0      0      0   \n",
      "1          0      1      0      0      0      0      0      0      0      0   \n",
      "2          0      0      0      0      0      1      0      0      0      0   \n",
      "3          0      1      0      0      0      1      0      0      0      0   \n",
      "4          0      0      0      0      0      0      0      0      0      0   \n",
      "...      ...    ...    ...    ...    ...    ...    ...    ...    ...    ...   \n",
      "10969      0      0      0      0      0      0      0      0      0      0   \n",
      "10970      0      0      0      1      0      0      0      0      0      0   \n",
      "10971      0      0      0      0      0      1      0      0      0      0   \n",
      "10972      1      0      0      0      0      0      0      0      0      0   \n",
      "10973      0      0      0      0      0      0      0      0      0      0   \n",
      "\n",
      "       ...  q-fin.MF  q-fin.PM  q-fin.PR  q-fin.RM  q-fin.TR  stat.AP  \\\n",
      "0      ...         1         0         1         0         0        0   \n",
      "1      ...         0         0         0         0         0        0   \n",
      "2      ...         0         0         0         0         0        0   \n",
      "3      ...         0         0         0         0         0        0   \n",
      "4      ...         0         0         0         0         0        0   \n",
      "...    ...       ...       ...       ...       ...       ...      ...   \n",
      "10969  ...         0         0         0         0         0        0   \n",
      "10970  ...         0         0         0         0         0        0   \n",
      "10971  ...         0         0         0         0         0        0   \n",
      "10972  ...         0         0         0         0         0        0   \n",
      "10973  ...         0         0         0         0         0        0   \n",
      "\n",
      "       stat.CO  stat.ME  stat.ML  stat.TH  \n",
      "0            0        0        0        0  \n",
      "1            0        0        0        0  \n",
      "2            0        0        0        0  \n",
      "3            0        0        0        0  \n",
      "4            0        0        0        0  \n",
      "...        ...      ...      ...      ...  \n",
      "10969        0        0        0        0  \n",
      "10970        0        0        0        0  \n",
      "10971        0        0        0        0  \n",
      "10972        0        0        0        0  \n",
      "10973        0        0        0        0  \n",
      "\n",
      "[10974 rows x 57 columns]\n"
     ]
    }
   ],
   "source": [
    "# Preprocess the test data\n",
    "test_df['Processed_Text'] = [preprocess_text(title + ' ' + abstract) for title, abstract in zip(test_df['Title'], test_df['Abstract'])]\n",
    "\n",
    "# Tokenize and preprocess the text data for test\n",
    "X_test_tokens1 = [tokenize_text(text) for text in test_df['Processed_Text']]\n",
    "X_test_inputs1 = torch.cat([x['input_ids'] for x in X_test_tokens1], dim=0)\n",
    "X_test_attention_masks1 = torch.cat([x['attention_mask'] for x in X_test_tokens1], dim=0)\n",
    "\n",
    "# Move test data to GPU\n",
    "X_test_inputs1 = X_test_inputs1.to('cuda')\n",
    "X_test_attention_masks1 = X_test_attention_masks1.to('cuda')\n",
    "\n",
    "# Set batch size\n",
    "batch_size = 9\n",
    "\n",
    "# Split the test data into batches\n",
    "X_test_inputs_batches1 = torch.split(X_test_inputs1, batch_size)\n",
    "X_test_attention_masks_batches1= torch.split(X_test_attention_masks1, batch_size)\n",
    "\n",
    "# Make predictions on the test data\n",
    "y_pred_list = []\n",
    "\n",
    "scibert_model.eval()\n",
    "with torch.no_grad():\n",
    "    with tqdm(total=len(X_test_inputs_batches1), desc='Predicting', unit='batch') as pbar:\n",
    "        for inputs_batch, attention_masks_batch in zip(X_test_inputs_batches1, X_test_attention_masks_batches1):\n",
    "            inputs_batch = inputs_batch.to('cuda')\n",
    "            attention_masks_batch = attention_masks_batch.to('cuda')\n",
    "\n",
    "            y_pred_batch = scibert_model(inputs_batch, attention_mask=attention_masks_batch)[0].sigmoid().cpu().numpy()\n",
    "            y_pred_list.append(y_pred_batch)\n",
    "\n",
    "            pbar.update(1)\n",
    "\n",
    "# Concatenate predictions from all batches\n",
    "y_pred = np.concatenate(y_pred_list, axis=0)\n",
    "\n",
    "# Convert predicted probabilities to binary predictions\n",
    "y_pred_classes = (y_pred > 0.5).astype(int)\n",
    "\n",
    "# Create a DataFrame with columns matching mlb.classes_\n",
    "predictions_df = pd.DataFrame(y_pred_classes, columns=mlb.classes_)\n",
    "\n",
    "# Concatenate the predictions DataFrame with the original test_df\n",
    "final_df = pd.concat([test_df, predictions_df], axis=1)\n",
    "\n",
    "# Display or save the final_df as needed\n",
    "print(predictions_df)\n",
    "final_df.to_csv('/kaggle/working/finaldf.csv')"
   ]
  },
  {
   "cell_type": "code",
   "execution_count": 19,
   "id": "a715c3d2",
   "metadata": {
    "execution": {
     "iopub.execute_input": "2024-02-09T09:30:21.985098Z",
     "iopub.status.busy": "2024-02-09T09:30:21.984699Z",
     "iopub.status.idle": "2024-02-09T09:30:22.261981Z",
     "shell.execute_reply": "2024-02-09T09:30:22.261097Z"
    },
    "papermill": {
     "duration": 1.145745,
     "end_time": "2024-02-09T09:30:22.264605",
     "exception": false,
     "start_time": "2024-02-09T09:30:21.118860",
     "status": "completed"
    },
    "tags": []
   },
   "outputs": [
    {
     "name": "stdout",
     "output_type": "stream",
     "text": [
      "          Id  math.AT  stat.AP  cs.AR  math.QA  q-bio.MN  eess.AS  eess.IV  \\\n",
      "0      30332        0        0      0        0         0        0        0   \n",
      "1      50337        0        0      1        0         0        0        0   \n",
      "2      66515        0        0      0        0         0        0        1   \n",
      "3      57464        0        0      1        0         0        0        1   \n",
      "4      43169        0        0      0        0         0        0        0   \n",
      "...      ...      ...      ...    ...      ...       ...      ...      ...   \n",
      "10969  41708        0        0      0        0         0        0        0   \n",
      "10970  38843        0        0      0        0         0        0        0   \n",
      "10971  57571        0        0      0        0         0        0        0   \n",
      "10972  31964        0        0      0        0         0        0        0   \n",
      "10973  22229        0        0      0        0         0        0        0   \n",
      "\n",
      "       stat.ME  econ.GN  ...  cs.SE  cs.RO  stat.TH  cs.DB  math.ST  q-bio.GN  \\\n",
      "0            0        0  ...      0      0        0      0        0         0   \n",
      "1            0        0  ...      0      0        0      0        0         0   \n",
      "2            0        0  ...      0      0        0      0        0         0   \n",
      "3            0        0  ...      0      0        0      0        0         0   \n",
      "4            0        0  ...      0      0        0      0        0         0   \n",
      "...        ...      ...  ...    ...    ...      ...    ...      ...       ...   \n",
      "10969        0        0  ...      0      0        0      0        0         0   \n",
      "10970        0        0  ...      0      0        0      0        0         0   \n",
      "10971        0        0  ...      0      0        0      0        0         0   \n",
      "10972        0        0  ...      0      1        0      0        0         0   \n",
      "10973        0        0  ...      0      0        0      0        0         0   \n",
      "\n",
      "       q-fin.PM  q-bio.TO  math.GR  cs.IR  \n",
      "0             0         0        0      0  \n",
      "1             0         0        0      0  \n",
      "2             0         0        0      0  \n",
      "3             0         0        0      0  \n",
      "4             0         0        0      0  \n",
      "...         ...       ...      ...    ...  \n",
      "10969         0         1        0      0  \n",
      "10970         0         0        0      0  \n",
      "10971         0         0        0      0  \n",
      "10972         0         0        0      0  \n",
      "10973         0         0        0      0  \n",
      "\n",
      "[10974 rows x 58 columns]\n"
     ]
    }
   ],
   "source": [
    "file1_path = '/kaggle/input/kriti-2024/sample_submission.csv'\n",
    "df1 = pd.read_csv(file1_path)\n",
    "column_order = df1.columns\n",
    "\n",
    "# Reorder columns in the second DataFrame based on the order of the first DataFrame\n",
    "df2_reordered = final_df[column_order]\n",
    "\n",
    "# Save the modified DataFrame to a new CSV file or overwrite the existing one\n",
    "output_path = '/kaggle/working/submission9_reordered.csv'\n",
    "df2_reordered.to_csv(output_path, index=False)\n",
    "\n",
    "# Optionally, you can also display the modified DataFrame\n",
    "print(df2_reordered)"
   ]
  },
  {
   "cell_type": "code",
   "execution_count": 20,
   "id": "e5e504c3",
   "metadata": {
    "execution": {
     "iopub.execute_input": "2024-02-09T09:30:24.030860Z",
     "iopub.status.busy": "2024-02-09T09:30:24.029955Z",
     "iopub.status.idle": "2024-02-09T09:30:24.926310Z",
     "shell.execute_reply": "2024-02-09T09:30:24.925429Z"
    },
    "papermill": {
     "duration": 1.750431,
     "end_time": "2024-02-09T09:30:24.928648",
     "exception": false,
     "start_time": "2024-02-09T09:30:23.178217",
     "status": "completed"
    },
    "tags": []
   },
   "outputs": [],
   "source": [
    "# Save the trained SciBERT model\n",
    "scibert_model.save_pretrained('/kaggle/working/scibert_trained')"
   ]
  }
 ],
 "metadata": {
  "kaggle": {
   "accelerator": "gpu",
   "dataSources": [
    {
     "datasetId": 4372563,
     "sourceId": 7507883,
     "sourceType": "datasetVersion"
    },
    {
     "datasetId": 4413153,
     "sourceId": 7581204,
     "sourceType": "datasetVersion"
    }
   ],
   "dockerImageVersionId": 30648,
   "isGpuEnabled": true,
   "isInternetEnabled": true,
   "language": "python",
   "sourceType": "notebook"
  },
  "kernelspec": {
   "display_name": "Python 3",
   "language": "python",
   "name": "python3"
  },
  "language_info": {
   "codemirror_mode": {
    "name": "ipython",
    "version": 3
   },
   "file_extension": ".py",
   "mimetype": "text/x-python",
   "name": "python",
   "nbconvert_exporter": "python",
   "pygments_lexer": "ipython3",
   "version": "3.10.13"
  },
  "papermill": {
   "default_parameters": {},
   "duration": 3022.9385,
   "end_time": "2024-02-09T09:30:29.465434",
   "environment_variables": {},
   "exception": null,
   "input_path": "__notebook__.ipynb",
   "output_path": "__notebook__.ipynb",
   "parameters": {},
   "start_time": "2024-02-09T08:40:06.526934",
   "version": "2.5.0"
  },
  "widgets": {
   "application/vnd.jupyter.widget-state+json": {
    "state": {
     "19ae779fb8604e74b5799003d0768da6": {
      "model_module": "@jupyter-widgets/controls",
      "model_module_version": "1.5.0",
      "model_name": "HTMLModel",
      "state": {
       "_dom_classes": [],
       "_model_module": "@jupyter-widgets/controls",
       "_model_module_version": "1.5.0",
       "_model_name": "HTMLModel",
       "_view_count": null,
       "_view_module": "@jupyter-widgets/controls",
       "_view_module_version": "1.5.0",
       "_view_name": "HTMLView",
       "description": "",
       "description_tooltip": null,
       "layout": "IPY_MODEL_3f0c1b54dba64553804c215635a025c4",
       "placeholder": "​",
       "style": "IPY_MODEL_44a18b7a104d41c792fcd8bbd64ef155",
       "value": " 228k/228k [00:00&lt;00:00, 1.41MB/s]"
      }
     },
     "1a067aab08364c3d84d66149b838fa6f": {
      "model_module": "@jupyter-widgets/controls",
      "model_module_version": "1.5.0",
      "model_name": "HBoxModel",
      "state": {
       "_dom_classes": [],
       "_model_module": "@jupyter-widgets/controls",
       "_model_module_version": "1.5.0",
       "_model_name": "HBoxModel",
       "_view_count": null,
       "_view_module": "@jupyter-widgets/controls",
       "_view_module_version": "1.5.0",
       "_view_name": "HBoxView",
       "box_style": "",
       "children": [
        "IPY_MODEL_d6be93cf1b0f40a49ca05dd726cf885c",
        "IPY_MODEL_9b7b548f2591446791dd0c39d82fa6d2",
        "IPY_MODEL_51f1cf022ab74ee197c11b91a99e1c74"
       ],
       "layout": "IPY_MODEL_d8e57979d2a147a1996bdaee066a6ef2"
      }
     },
     "226203ae7ee444c4bcdcf124e23caf8a": {
      "model_module": "@jupyter-widgets/controls",
      "model_module_version": "1.5.0",
      "model_name": "ProgressStyleModel",
      "state": {
       "_model_module": "@jupyter-widgets/controls",
       "_model_module_version": "1.5.0",
       "_model_name": "ProgressStyleModel",
       "_view_count": null,
       "_view_module": "@jupyter-widgets/base",
       "_view_module_version": "1.2.0",
       "_view_name": "StyleView",
       "bar_color": null,
       "description_width": ""
      }
     },
     "3161f6d1bc80408bbd6f54aa51f89261": {
      "model_module": "@jupyter-widgets/controls",
      "model_module_version": "1.5.0",
      "model_name": "DescriptionStyleModel",
      "state": {
       "_model_module": "@jupyter-widgets/controls",
       "_model_module_version": "1.5.0",
       "_model_name": "DescriptionStyleModel",
       "_view_count": null,
       "_view_module": "@jupyter-widgets/base",
       "_view_module_version": "1.2.0",
       "_view_name": "StyleView",
       "description_width": ""
      }
     },
     "3f0c1b54dba64553804c215635a025c4": {
      "model_module": "@jupyter-widgets/base",
      "model_module_version": "1.2.0",
      "model_name": "LayoutModel",
      "state": {
       "_model_module": "@jupyter-widgets/base",
       "_model_module_version": "1.2.0",
       "_model_name": "LayoutModel",
       "_view_count": null,
       "_view_module": "@jupyter-widgets/base",
       "_view_module_version": "1.2.0",
       "_view_name": "LayoutView",
       "align_content": null,
       "align_items": null,
       "align_self": null,
       "border": null,
       "bottom": null,
       "display": null,
       "flex": null,
       "flex_flow": null,
       "grid_area": null,
       "grid_auto_columns": null,
       "grid_auto_flow": null,
       "grid_auto_rows": null,
       "grid_column": null,
       "grid_gap": null,
       "grid_row": null,
       "grid_template_areas": null,
       "grid_template_columns": null,
       "grid_template_rows": null,
       "height": null,
       "justify_content": null,
       "justify_items": null,
       "left": null,
       "margin": null,
       "max_height": null,
       "max_width": null,
       "min_height": null,
       "min_width": null,
       "object_fit": null,
       "object_position": null,
       "order": null,
       "overflow": null,
       "overflow_x": null,
       "overflow_y": null,
       "padding": null,
       "right": null,
       "top": null,
       "visibility": null,
       "width": null
      }
     },
     "44a18b7a104d41c792fcd8bbd64ef155": {
      "model_module": "@jupyter-widgets/controls",
      "model_module_version": "1.5.0",
      "model_name": "DescriptionStyleModel",
      "state": {
       "_model_module": "@jupyter-widgets/controls",
       "_model_module_version": "1.5.0",
       "_model_name": "DescriptionStyleModel",
       "_view_count": null,
       "_view_module": "@jupyter-widgets/base",
       "_view_module_version": "1.2.0",
       "_view_name": "StyleView",
       "description_width": ""
      }
     },
     "51f1cf022ab74ee197c11b91a99e1c74": {
      "model_module": "@jupyter-widgets/controls",
      "model_module_version": "1.5.0",
      "model_name": "HTMLModel",
      "state": {
       "_dom_classes": [],
       "_model_module": "@jupyter-widgets/controls",
       "_model_module_version": "1.5.0",
       "_model_name": "HTMLModel",
       "_view_count": null,
       "_view_module": "@jupyter-widgets/controls",
       "_view_module_version": "1.5.0",
       "_view_name": "HTMLView",
       "description": "",
       "description_tooltip": null,
       "layout": "IPY_MODEL_66a91287c60e451cb6e6df5e002293f4",
       "placeholder": "​",
       "style": "IPY_MODEL_b0eb72b428a747bda0373528983b3d47",
       "value": " 385/385 [00:00&lt;00:00, 31.6kB/s]"
      }
     },
     "581c3eea33a44c899c7dddb9a545f4ee": {
      "model_module": "@jupyter-widgets/controls",
      "model_module_version": "1.5.0",
      "model_name": "HTMLModel",
      "state": {
       "_dom_classes": [],
       "_model_module": "@jupyter-widgets/controls",
       "_model_module_version": "1.5.0",
       "_model_name": "HTMLModel",
       "_view_count": null,
       "_view_module": "@jupyter-widgets/controls",
       "_view_module_version": "1.5.0",
       "_view_name": "HTMLView",
       "description": "",
       "description_tooltip": null,
       "layout": "IPY_MODEL_72e720ed95a14de386bd4184c796a668",
       "placeholder": "​",
       "style": "IPY_MODEL_77b70f82b48a4f51821d95e9a3ca1590",
       "value": "vocab.txt: 100%"
      }
     },
     "66a91287c60e451cb6e6df5e002293f4": {
      "model_module": "@jupyter-widgets/base",
      "model_module_version": "1.2.0",
      "model_name": "LayoutModel",
      "state": {
       "_model_module": "@jupyter-widgets/base",
       "_model_module_version": "1.2.0",
       "_model_name": "LayoutModel",
       "_view_count": null,
       "_view_module": "@jupyter-widgets/base",
       "_view_module_version": "1.2.0",
       "_view_name": "LayoutView",
       "align_content": null,
       "align_items": null,
       "align_self": null,
       "border": null,
       "bottom": null,
       "display": null,
       "flex": null,
       "flex_flow": null,
       "grid_area": null,
       "grid_auto_columns": null,
       "grid_auto_flow": null,
       "grid_auto_rows": null,
       "grid_column": null,
       "grid_gap": null,
       "grid_row": null,
       "grid_template_areas": null,
       "grid_template_columns": null,
       "grid_template_rows": null,
       "height": null,
       "justify_content": null,
       "justify_items": null,
       "left": null,
       "margin": null,
       "max_height": null,
       "max_width": null,
       "min_height": null,
       "min_width": null,
       "object_fit": null,
       "object_position": null,
       "order": null,
       "overflow": null,
       "overflow_x": null,
       "overflow_y": null,
       "padding": null,
       "right": null,
       "top": null,
       "visibility": null,
       "width": null
      }
     },
     "72e720ed95a14de386bd4184c796a668": {
      "model_module": "@jupyter-widgets/base",
      "model_module_version": "1.2.0",
      "model_name": "LayoutModel",
      "state": {
       "_model_module": "@jupyter-widgets/base",
       "_model_module_version": "1.2.0",
       "_model_name": "LayoutModel",
       "_view_count": null,
       "_view_module": "@jupyter-widgets/base",
       "_view_module_version": "1.2.0",
       "_view_name": "LayoutView",
       "align_content": null,
       "align_items": null,
       "align_self": null,
       "border": null,
       "bottom": null,
       "display": null,
       "flex": null,
       "flex_flow": null,
       "grid_area": null,
       "grid_auto_columns": null,
       "grid_auto_flow": null,
       "grid_auto_rows": null,
       "grid_column": null,
       "grid_gap": null,
       "grid_row": null,
       "grid_template_areas": null,
       "grid_template_columns": null,
       "grid_template_rows": null,
       "height": null,
       "justify_content": null,
       "justify_items": null,
       "left": null,
       "margin": null,
       "max_height": null,
       "max_width": null,
       "min_height": null,
       "min_width": null,
       "object_fit": null,
       "object_position": null,
       "order": null,
       "overflow": null,
       "overflow_x": null,
       "overflow_y": null,
       "padding": null,
       "right": null,
       "top": null,
       "visibility": null,
       "width": null
      }
     },
     "77b70f82b48a4f51821d95e9a3ca1590": {
      "model_module": "@jupyter-widgets/controls",
      "model_module_version": "1.5.0",
      "model_name": "DescriptionStyleModel",
      "state": {
       "_model_module": "@jupyter-widgets/controls",
       "_model_module_version": "1.5.0",
       "_model_name": "DescriptionStyleModel",
       "_view_count": null,
       "_view_module": "@jupyter-widgets/base",
       "_view_module_version": "1.2.0",
       "_view_name": "StyleView",
       "description_width": ""
      }
     },
     "78d6a4b5e9094a288a27b1b0df197834": {
      "model_module": "@jupyter-widgets/base",
      "model_module_version": "1.2.0",
      "model_name": "LayoutModel",
      "state": {
       "_model_module": "@jupyter-widgets/base",
       "_model_module_version": "1.2.0",
       "_model_name": "LayoutModel",
       "_view_count": null,
       "_view_module": "@jupyter-widgets/base",
       "_view_module_version": "1.2.0",
       "_view_name": "LayoutView",
       "align_content": null,
       "align_items": null,
       "align_self": null,
       "border": null,
       "bottom": null,
       "display": null,
       "flex": null,
       "flex_flow": null,
       "grid_area": null,
       "grid_auto_columns": null,
       "grid_auto_flow": null,
       "grid_auto_rows": null,
       "grid_column": null,
       "grid_gap": null,
       "grid_row": null,
       "grid_template_areas": null,
       "grid_template_columns": null,
       "grid_template_rows": null,
       "height": null,
       "justify_content": null,
       "justify_items": null,
       "left": null,
       "margin": null,
       "max_height": null,
       "max_width": null,
       "min_height": null,
       "min_width": null,
       "object_fit": null,
       "object_position": null,
       "order": null,
       "overflow": null,
       "overflow_x": null,
       "overflow_y": null,
       "padding": null,
       "right": null,
       "top": null,
       "visibility": null,
       "width": null
      }
     },
     "79b7bb7371cb4de389a831b90d00fb76": {
      "model_module": "@jupyter-widgets/controls",
      "model_module_version": "1.5.0",
      "model_name": "ProgressStyleModel",
      "state": {
       "_model_module": "@jupyter-widgets/controls",
       "_model_module_version": "1.5.0",
       "_model_name": "ProgressStyleModel",
       "_view_count": null,
       "_view_module": "@jupyter-widgets/base",
       "_view_module_version": "1.2.0",
       "_view_name": "StyleView",
       "bar_color": null,
       "description_width": ""
      }
     },
     "8001fdcca852491ba79c30c1f01a669a": {
      "model_module": "@jupyter-widgets/controls",
      "model_module_version": "1.5.0",
      "model_name": "HBoxModel",
      "state": {
       "_dom_classes": [],
       "_model_module": "@jupyter-widgets/controls",
       "_model_module_version": "1.5.0",
       "_model_name": "HBoxModel",
       "_view_count": null,
       "_view_module": "@jupyter-widgets/controls",
       "_view_module_version": "1.5.0",
       "_view_name": "HBoxView",
       "box_style": "",
       "children": [
        "IPY_MODEL_581c3eea33a44c899c7dddb9a545f4ee",
        "IPY_MODEL_8c48a380a886470f80616a7e763af1b4",
        "IPY_MODEL_19ae779fb8604e74b5799003d0768da6"
       ],
       "layout": "IPY_MODEL_87f78b6d44504f3d866edab23c22ceaf"
      }
     },
     "87f78b6d44504f3d866edab23c22ceaf": {
      "model_module": "@jupyter-widgets/base",
      "model_module_version": "1.2.0",
      "model_name": "LayoutModel",
      "state": {
       "_model_module": "@jupyter-widgets/base",
       "_model_module_version": "1.2.0",
       "_model_name": "LayoutModel",
       "_view_count": null,
       "_view_module": "@jupyter-widgets/base",
       "_view_module_version": "1.2.0",
       "_view_name": "LayoutView",
       "align_content": null,
       "align_items": null,
       "align_self": null,
       "border": null,
       "bottom": null,
       "display": null,
       "flex": null,
       "flex_flow": null,
       "grid_area": null,
       "grid_auto_columns": null,
       "grid_auto_flow": null,
       "grid_auto_rows": null,
       "grid_column": null,
       "grid_gap": null,
       "grid_row": null,
       "grid_template_areas": null,
       "grid_template_columns": null,
       "grid_template_rows": null,
       "height": null,
       "justify_content": null,
       "justify_items": null,
       "left": null,
       "margin": null,
       "max_height": null,
       "max_width": null,
       "min_height": null,
       "min_width": null,
       "object_fit": null,
       "object_position": null,
       "order": null,
       "overflow": null,
       "overflow_x": null,
       "overflow_y": null,
       "padding": null,
       "right": null,
       "top": null,
       "visibility": null,
       "width": null
      }
     },
     "8c48a380a886470f80616a7e763af1b4": {
      "model_module": "@jupyter-widgets/controls",
      "model_module_version": "1.5.0",
      "model_name": "FloatProgressModel",
      "state": {
       "_dom_classes": [],
       "_model_module": "@jupyter-widgets/controls",
       "_model_module_version": "1.5.0",
       "_model_name": "FloatProgressModel",
       "_view_count": null,
       "_view_module": "@jupyter-widgets/controls",
       "_view_module_version": "1.5.0",
       "_view_name": "ProgressView",
       "bar_style": "success",
       "description": "",
       "description_tooltip": null,
       "layout": "IPY_MODEL_78d6a4b5e9094a288a27b1b0df197834",
       "max": 227845.0,
       "min": 0.0,
       "orientation": "horizontal",
       "style": "IPY_MODEL_226203ae7ee444c4bcdcf124e23caf8a",
       "value": 227845.0
      }
     },
     "9b7b548f2591446791dd0c39d82fa6d2": {
      "model_module": "@jupyter-widgets/controls",
      "model_module_version": "1.5.0",
      "model_name": "FloatProgressModel",
      "state": {
       "_dom_classes": [],
       "_model_module": "@jupyter-widgets/controls",
       "_model_module_version": "1.5.0",
       "_model_name": "FloatProgressModel",
       "_view_count": null,
       "_view_module": "@jupyter-widgets/controls",
       "_view_module_version": "1.5.0",
       "_view_name": "ProgressView",
       "bar_style": "success",
       "description": "",
       "description_tooltip": null,
       "layout": "IPY_MODEL_e1076f3e11be4c459b46cf6546851122",
       "max": 385.0,
       "min": 0.0,
       "orientation": "horizontal",
       "style": "IPY_MODEL_79b7bb7371cb4de389a831b90d00fb76",
       "value": 385.0
      }
     },
     "b0eb72b428a747bda0373528983b3d47": {
      "model_module": "@jupyter-widgets/controls",
      "model_module_version": "1.5.0",
      "model_name": "DescriptionStyleModel",
      "state": {
       "_model_module": "@jupyter-widgets/controls",
       "_model_module_version": "1.5.0",
       "_model_name": "DescriptionStyleModel",
       "_view_count": null,
       "_view_module": "@jupyter-widgets/base",
       "_view_module_version": "1.2.0",
       "_view_name": "StyleView",
       "description_width": ""
      }
     },
     "d6be93cf1b0f40a49ca05dd726cf885c": {
      "model_module": "@jupyter-widgets/controls",
      "model_module_version": "1.5.0",
      "model_name": "HTMLModel",
      "state": {
       "_dom_classes": [],
       "_model_module": "@jupyter-widgets/controls",
       "_model_module_version": "1.5.0",
       "_model_name": "HTMLModel",
       "_view_count": null,
       "_view_module": "@jupyter-widgets/controls",
       "_view_module_version": "1.5.0",
       "_view_name": "HTMLView",
       "description": "",
       "description_tooltip": null,
       "layout": "IPY_MODEL_f1e78f5d1c1b4423bd569ba7a41e901e",
       "placeholder": "​",
       "style": "IPY_MODEL_3161f6d1bc80408bbd6f54aa51f89261",
       "value": "config.json: 100%"
      }
     },
     "d8e57979d2a147a1996bdaee066a6ef2": {
      "model_module": "@jupyter-widgets/base",
      "model_module_version": "1.2.0",
      "model_name": "LayoutModel",
      "state": {
       "_model_module": "@jupyter-widgets/base",
       "_model_module_version": "1.2.0",
       "_model_name": "LayoutModel",
       "_view_count": null,
       "_view_module": "@jupyter-widgets/base",
       "_view_module_version": "1.2.0",
       "_view_name": "LayoutView",
       "align_content": null,
       "align_items": null,
       "align_self": null,
       "border": null,
       "bottom": null,
       "display": null,
       "flex": null,
       "flex_flow": null,
       "grid_area": null,
       "grid_auto_columns": null,
       "grid_auto_flow": null,
       "grid_auto_rows": null,
       "grid_column": null,
       "grid_gap": null,
       "grid_row": null,
       "grid_template_areas": null,
       "grid_template_columns": null,
       "grid_template_rows": null,
       "height": null,
       "justify_content": null,
       "justify_items": null,
       "left": null,
       "margin": null,
       "max_height": null,
       "max_width": null,
       "min_height": null,
       "min_width": null,
       "object_fit": null,
       "object_position": null,
       "order": null,
       "overflow": null,
       "overflow_x": null,
       "overflow_y": null,
       "padding": null,
       "right": null,
       "top": null,
       "visibility": null,
       "width": null
      }
     },
     "e1076f3e11be4c459b46cf6546851122": {
      "model_module": "@jupyter-widgets/base",
      "model_module_version": "1.2.0",
      "model_name": "LayoutModel",
      "state": {
       "_model_module": "@jupyter-widgets/base",
       "_model_module_version": "1.2.0",
       "_model_name": "LayoutModel",
       "_view_count": null,
       "_view_module": "@jupyter-widgets/base",
       "_view_module_version": "1.2.0",
       "_view_name": "LayoutView",
       "align_content": null,
       "align_items": null,
       "align_self": null,
       "border": null,
       "bottom": null,
       "display": null,
       "flex": null,
       "flex_flow": null,
       "grid_area": null,
       "grid_auto_columns": null,
       "grid_auto_flow": null,
       "grid_auto_rows": null,
       "grid_column": null,
       "grid_gap": null,
       "grid_row": null,
       "grid_template_areas": null,
       "grid_template_columns": null,
       "grid_template_rows": null,
       "height": null,
       "justify_content": null,
       "justify_items": null,
       "left": null,
       "margin": null,
       "max_height": null,
       "max_width": null,
       "min_height": null,
       "min_width": null,
       "object_fit": null,
       "object_position": null,
       "order": null,
       "overflow": null,
       "overflow_x": null,
       "overflow_y": null,
       "padding": null,
       "right": null,
       "top": null,
       "visibility": null,
       "width": null
      }
     },
     "f1e78f5d1c1b4423bd569ba7a41e901e": {
      "model_module": "@jupyter-widgets/base",
      "model_module_version": "1.2.0",
      "model_name": "LayoutModel",
      "state": {
       "_model_module": "@jupyter-widgets/base",
       "_model_module_version": "1.2.0",
       "_model_name": "LayoutModel",
       "_view_count": null,
       "_view_module": "@jupyter-widgets/base",
       "_view_module_version": "1.2.0",
       "_view_name": "LayoutView",
       "align_content": null,
       "align_items": null,
       "align_self": null,
       "border": null,
       "bottom": null,
       "display": null,
       "flex": null,
       "flex_flow": null,
       "grid_area": null,
       "grid_auto_columns": null,
       "grid_auto_flow": null,
       "grid_auto_rows": null,
       "grid_column": null,
       "grid_gap": null,
       "grid_row": null,
       "grid_template_areas": null,
       "grid_template_columns": null,
       "grid_template_rows": null,
       "height": null,
       "justify_content": null,
       "justify_items": null,
       "left": null,
       "margin": null,
       "max_height": null,
       "max_width": null,
       "min_height": null,
       "min_width": null,
       "object_fit": null,
       "object_position": null,
       "order": null,
       "overflow": null,
       "overflow_x": null,
       "overflow_y": null,
       "padding": null,
       "right": null,
       "top": null,
       "visibility": null,
       "width": null
      }
     }
    },
    "version_major": 2,
    "version_minor": 0
   }
  }
 },
 "nbformat": 4,
 "nbformat_minor": 5
}
